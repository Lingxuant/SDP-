{
 "cells": [
  {
   "cell_type": "code",
   "execution_count": 1,
   "id": "04937e6d",
   "metadata": {},
   "outputs": [],
   "source": [
    "from ncpol2sdpa import generate_operators, SdpRelaxation\n"
   ]
  },
  {
   "cell_type": "markdown",
   "id": "940b3e83",
   "metadata": {},
   "source": [
    "Specify variable name ‘X’ and generate 4 Hermitian non-commutative variables"
   ]
  },
  {
   "cell_type": "code",
   "execution_count": 2,
   "id": "2974b9e6",
   "metadata": {},
   "outputs": [],
   "source": [
    "X = generate_operators(\"X\", 4, hermitian=True)\n"
   ]
  },
  {
   "cell_type": "markdown",
   "id": "a9ebab38",
   "metadata": {},
   "source": [
    "Defining the CHSH Bell Operator"
   ]
  },
  {
   "cell_type": "code",
   "execution_count": 3,
   "id": "e82d0f1b",
   "metadata": {},
   "outputs": [],
   "source": [
    "B_CHSH = X[0]*X[2] + X[0]*X[3] + X[1]*X[2] - X[1]*X[3]"
   ]
  },
  {
   "cell_type": "markdown",
   "id": "85e57e2d",
   "metadata": {},
   "source": [
    "A_i^2 = 1, B_j^2 = 1"
   ]
  },
  {
   "cell_type": "code",
   "execution_count": 4,
   "id": "c4bffe80",
   "metadata": {},
   "outputs": [],
   "source": [
    "eqs = [X[i]**2 - 1 for i in range(4)]   # A_i^2 = 1, B_j^2 = 1"
   ]
  },
  {
   "cell_type": "code",
   "execution_count": 5,
   "id": "d074b3ba",
   "metadata": {},
   "outputs": [],
   "source": [
    "eqs += [X[i]*X[j] - X[j]*X[i] for i in [0, 1] for j in [2, 3]]   # [A_i, B_j] = 0"
   ]
  },
  {
   "cell_type": "markdown",
   "id": "e74695fc",
   "metadata": {},
   "source": [
    "SDP Relaxation"
   ]
  },
  {
   "cell_type": "code",
   "execution_count": 6,
   "id": "183c7e8c",
   "metadata": {},
   "outputs": [
    {
     "name": "stdout",
     "output_type": "stream",
     "text": [
      "The problem has 4 noncommuting Hermitian variables\n",
      "Calculating block structure...\n",
      "Estimated number of SDP variables: 3654\n",
      "Generating moment matrix...\n",
      "Reduced number of SDP variables: 3444444 (done: 100.03%, ETA 00:00:-0.0)\n",
      "\u001b[KProcessing 16/16 constraints...\n"
     ]
    }
   ],
   "source": [
    "n = 3  #   can take any real number of relaxation levels n for sdp optimisation, since we want maximize: ⟨ψ∣B∣ψ⟩\n",
    "sdp = SdpRelaxation(X, verbose=1)\n",
    "sdp.get_relaxation(level=n, objective=B_CHSH, equalities=eqs)"
   ]
  },
  {
   "cell_type": "code",
   "execution_count": null,
   "id": "0cb308ff",
   "metadata": {},
   "outputs": [
    {
     "name": "stdout",
     "output_type": "stream",
     "text": [
      "Problem\n",
      "  Name                   :                 \n",
      "  Objective sense        : minimize        \n",
      "  Type                   : CONIC (conic optimization problem)\n",
      "  Constraints            : 3444            \n",
      "  Affine conic cons.     : 0               \n",
      "  Disjunctive cons.      : 0               \n",
      "  Cones                  : 0               \n",
      "  Scalar variables       : 0               \n",
      "  Matrix variables       : 1 (scalarized: 7149871)\n",
      "  Integer variables      : 0               \n",
      "\n",
      "Optimizer started.\n",
      "Presolve started.\n",
      "Linear dependency checker started.\n",
      "Linear dependency checker terminated.\n",
      "Eliminator started.\n",
      "Freed constraints in eliminator : 0\n",
      "Eliminator terminated.\n",
      "Eliminator - tries                  : 1                 time                   : 0.00            \n",
      "Lin. dep.  - tries                  : 1                 time                   : 0.00            \n",
      "Lin. dep.  - primal attempts        : 1                 successes              : 1               \n",
      "Lin. dep.  - dual attempts          : 0                 successes              : 0               \n",
      "Lin. dep.  - primal deps.           : 0                 dual deps.             : 0               \n",
      "Presolve terminated. Time: 0.00    \n"
     ]
    }
   ],
   "source": [
    "sdp.solve(solver=\"mosek\") # Using MOSEK to solve SDP\n",
    "print(f\"CHSH Tsirelson bound (level {n}):\", -sdp.primal)\n",
    "print(\"Status:\", sdp.status)"
   ]
  },
  {
   "cell_type": "markdown",
   "id": "06af3c9d",
   "metadata": {},
   "source": [
    "Output result"
   ]
  },
  {
   "cell_type": "code",
   "execution_count": null,
   "id": "1b00cd24",
   "metadata": {},
   "outputs": [
    {
     "name": "stdout",
     "output_type": "stream",
     "text": [
      "CHSH Tsirelson bound (level 3): 2.828426852115044\n",
      "Status: optimal\n"
     ]
    }
   ],
   "source": [
    "print(f\"CHSH Tsirelson bound (level {n}):\", -sdp.primal)\n",
    "print(\"Status:\", sdp.status)"
   ]
  }
 ],
 "metadata": {
  "kernelspec": {
   "display_name": "Python 3",
   "language": "python",
   "name": "python3"
  },
  "language_info": {
   "codemirror_mode": {
    "name": "ipython",
    "version": 3
   },
   "file_extension": ".py",
   "mimetype": "text/x-python",
   "name": "python",
   "nbconvert_exporter": "python",
   "pygments_lexer": "ipython3",
   "version": "3.12.3"
  }
 },
 "nbformat": 4,
 "nbformat_minor": 5
}
